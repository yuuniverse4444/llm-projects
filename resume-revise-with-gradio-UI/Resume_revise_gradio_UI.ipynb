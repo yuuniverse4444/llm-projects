{
 "cells": [
  {
   "cell_type": "code",
   "execution_count": 1,
   "id": "3c22c552-b67d-4f0b-9466-d328327ccf9b",
   "metadata": {},
   "outputs": [
    {
     "name": "stderr",
     "output_type": "stream",
     "text": [
      "/Users/zhouyu/Documents/notebook/myenv/lib/python3.9/site-packages/urllib3/__init__.py:35: NotOpenSSLWarning: urllib3 v2 only supports OpenSSL 1.1.1+, currently the 'ssl' module is compiled with 'LibreSSL 2.8.3'. See: https://github.com/urllib3/urllib3/issues/3020\n",
      "  warnings.warn(\n",
      "/Users/zhouyu/Documents/notebook/myenv/lib/python3.9/site-packages/tqdm/auto.py:21: TqdmWarning: IProgress not found. Please update jupyter and ipywidgets. See https://ipywidgets.readthedocs.io/en/stable/user_install.html\n",
      "  from .autonotebook import tqdm as notebook_tqdm\n"
     ]
    }
   ],
   "source": [
    "import gradio as gr\n",
    "from functions_resume_revise import *"
   ]
  },
  {
   "cell_type": "code",
   "execution_count": 3,
   "id": "57fac46d-28d7-460c-804a-8f5adcd88943",
   "metadata": {},
   "outputs": [
    {
     "name": "stdout",
     "output_type": "stream",
     "text": [
      "Running on local URL:  http://127.0.0.1:7860\n",
      "Running on public URL: https://5f91670f0dd81101ea.gradio.live\n",
      "\n",
      "This share link expires in 72 hours. For free permanent hosting and GPU upgrades, run `gradio deploy` from Terminal to deploy to Spaces (https://huggingface.co/spaces)\n"
     ]
    },
    {
     "data": {
      "text/html": [
       "<div><iframe src=\"https://5f91670f0dd81101ea.gradio.live\" width=\"100%\" height=\"500\" allow=\"autoplay; camera; microphone; clipboard-read; clipboard-write;\" frameborder=\"0\" allowfullscreen></iframe></div>"
      ],
      "text/plain": [
       "<IPython.core.display.HTML object>"
      ]
     },
     "metadata": {},
     "output_type": "display_data"
    },
    {
     "data": {
      "text/plain": []
     },
     "execution_count": 3,
     "metadata": {},
     "output_type": "execute_result"
    },
    {
     "name": "stdout",
     "output_type": "stream",
     "text": [
      "Converting PDF to markdown format...\n"
     ]
    }
   ],
   "source": [
    "with gr.Blocks() as app:\n",
    "    # create header and app description\n",
    "    gr.Markdown(\"# Resume Optimizer 📄\")\n",
    "    gr.Markdown(\"Upload your resume, paste the job description, and get actionable insights!\")\n",
    "\n",
    "    # gather inputs\n",
    "    with gr.Row():\n",
    "        resume_input = gr.File(label=\"Upload Your Resume (.md)\")    \n",
    "        jd_input = gr.Textbox(label=\"Paste the Job Description Here\", lines=9, interactive=True, placeholder=\"Paste job description...\")\n",
    "    run_button = gr.Button(\"Optimize Resume 🤖\")\n",
    "\n",
    "    # display outputs\n",
    "    output_resume_md = gr.Markdown(label=\"New Resume\")\n",
    "    output_suggestions = gr.Markdown(label=\"Suggestions\")\n",
    "\n",
    "    # editing results\n",
    "    output_resume = gr.Textbox(label=\"Edit resume and export!\", interactive=True)\n",
    "    export_button = gr.Button(\"Export Resume as PDF 🚀\")\n",
    "    export_result = gr.Markdown(label=\"Export Result\")\n",
    "    \n",
    "    # Event binding\n",
    "    run_button.click(process_resume, inputs=[resume_input, jd_input], outputs=[output_resume_md, output_resume, output_suggestions])\n",
    "    export_button.click(export_resume, inputs=[output_resume], outputs=[export_result])\n",
    "\n",
    "# Launch the app\n",
    "app.launch(share=True)"
   ]
  },
  {
   "cell_type": "code",
   "execution_count": 5,
   "id": "731fabc2-c2bd-4a5d-b0d7-2e48ba115130",
   "metadata": {},
   "outputs": [],
   "source": []
  }
 ],
 "metadata": {
  "kernelspec": {
   "display_name": "myenv",
   "language": "python",
   "name": "myenv"
  },
  "language_info": {
   "codemirror_mode": {
    "name": "ipython",
    "version": 3
   },
   "file_extension": ".py",
   "mimetype": "text/x-python",
   "name": "python",
   "nbconvert_exporter": "python",
   "pygments_lexer": "ipython3",
   "version": "3.9.6"
  }
 },
 "nbformat": 4,
 "nbformat_minor": 5
}
