{
 "cells": [
  {
   "cell_type": "code",
   "execution_count": 12,
   "id": "ec80eac9-9843-40f9-9da7-aeffd48d5b41",
   "metadata": {},
   "outputs": [
    {
     "data": {
      "text/plain": [
       "'\\nThis project allows user to upload to input files:\\nIt uploads an existing resume file and an job description, both in markdown format. \\nThe chatbot use LangChain Prompt Template to generate prommpt, and provide two pieces of feedback.\\nprovide relevant suggestion feedback. Specficialy, \\n\\n **Action-Driven Results**:  \\n   - Use **strong action verbs** and **quantifiable results** (e.g., percentages, revenue, efficiency improvements) to highlight impact.  \\n\\n **Keyword Optimization**:  \\n   - Integrate **keywords** and phrases from the job description naturally to optimize for ATS (Applicant Tracking Systems). \\n\\n2. **Additional Suggestions (if applicable)**:  \\n   - List any skills that could improve alignment with the role.\\n   - Recommend certifications or courses that could be pursued.\\n   - Suggest specific projects or experiences to develop further.\\n\\n\\n'"
      ]
     },
     "execution_count": 12,
     "metadata": {},
     "output_type": "execute_result"
    }
   ],
   "source": [
    "\"\"\"\n",
    "This project allows user to upload to input files:\n",
    "It uploads an existing resume file and an job description, both in markdown format. \n",
    "The chatbot use LangChain Prompt Template to generate prommpt, and provide two pieces of feedback.\n",
    "provide relevant suggestion feedback. Specficialy, \n",
    "\n",
    " **Action-Driven Results**:  \n",
    "   - Use **strong action verbs** and **quantifiable results** (e.g., \\\n",
    "percentages, revenue, efficiency improvements) to highlight impact.  \n",
    "\n",
    " **Keyword Optimization**:  \n",
    "   - Integrate **keywords** and phrases from the job description naturally to \\\n",
    "optimize for ATS (Applicant Tracking Systems). \n",
    "\n",
    "2. **Additional Suggestions (if applicable)**:  \n",
    "   - List any skills that could improve alignment with the role.\n",
    "   - Recommend certifications or courses that could be pursued.\n",
    "   - Suggest specific projects or experiences to develop further.\n",
    "\n",
    "\n",
    "\"\"\""
   ]
  },
  {
   "cell_type": "code",
   "execution_count": 1,
   "id": "b556ff88-fff5-4242-a5c6-d0455be69ecd",
   "metadata": {},
   "outputs": [
    {
     "name": "stderr",
     "output_type": "stream",
     "text": [
      "/Users/zhouyu/Documents/notebook/myenv/lib/python3.9/site-packages/urllib3/__init__.py:35: NotOpenSSLWarning: urllib3 v2 only supports OpenSSL 1.1.1+, currently the 'ssl' module is compiled with 'LibreSSL 2.8.3'. See: https://github.com/urllib3/urllib3/issues/3020\n",
      "  warnings.warn(\n"
     ]
    }
   ],
   "source": [
    "from langchain.chat_models import ChatOpenAI\n",
    "from langchain.prompts import PromptTemplate\n",
    "from langchain.chains import LLMChain\n",
    "from langchain.schema import BaseOutputParser\n",
    "from sk import my_sk\n",
    "from markdown import markdown\n",
    "from openai import OpenAI"
   ]
  },
  {
   "cell_type": "code",
   "execution_count": 3,
   "id": "020decad-879a-4878-8b24-f29e650cd236",
   "metadata": {},
   "outputs": [
    {
     "name": "stderr",
     "output_type": "stream",
     "text": [
      "/var/folders/ww/xnbg6qmx0q9gls3523dt2lg80000gn/T/ipykernel_94100/883962386.py:2: LangChainDeprecationWarning: The class `ChatOpenAI` was deprecated in LangChain 0.0.10 and will be removed in 1.0. An updated version of the class exists in the :class:`~langchain-openai package and should be used instead. To use it run `pip install -U :class:`~langchain-openai` and import as `from :class:`~langchain_openai import ChatOpenAI``.\n",
      "  chat_model = ChatOpenAI(openai_api_key=my_sk, temperature=0)\n"
     ]
    }
   ],
   "source": [
    "# define chatbot\n",
    "chat_model = ChatOpenAI(openai_api_key=my_sk, temperature=0)\n",
    "\n",
    "with open(\"resume.md\", \"r\", encoding=\"utf-8\") as file:\n",
    "    resume_string = file.read()\n",
    "\n",
    "with open(\"jd.md\", \"r\", encoding=\"utf-8\") as file:\n",
    "    job_description_string = file.read()\n",
    "    jd_string = file.read()\n"
   ]
  },
  {
   "cell_type": "code",
   "execution_count": 26,
   "id": "aab77577-086a-4d3a-ac84-249892bc42fd",
   "metadata": {},
   "outputs": [
    {
     "data": {
      "text/plain": [
       "\"# Zhou Yu\\n\\nEmail: yuuniverse4444@gmail.com  \\nPhone: 650-704-6941\\n\\n## Work Experience\\n\\n### Data Science Consultant, Bond Capital (Mary Meeker's Growth fund)\\n*2022.02 - 2024.9*\\n\\n- Led the development of data-driven investing roadmaps, implementing machine learning algorithms to improve recall by 14.3%.\\n- Utilized SHAP values for feature importance and developed backtesting infrastructure using Spark/EMR.\\n- Applied LLM to analyze web & product review data, improving output consistency by 10.2%.\\n\\n### Head of Data Science, Grow Therapy (Sequoia invested)\\n*2022.2 – 2022.11*\\n\\n- Led strategic data science initiatives, resulting in a 10% conversion increase and 7% retention improvement.\\n- Implemented provider ranking algorithms using mix-effect & ML models for optimization.\\n- Created reporting dashboards to optimize revenue cycle management, increasing efficiency by 15%.\\n\\n## Technical Skills\\n\\n- Programming languages: Python, R, SQL, Spark/Scala\\n- Tools: AWS (EMR, EC2, S3), MySQL, Git, Linux\\n- Expertise: Machine Learning, Data Science, A/B Testing, Algorithm Development\\n\\n## Education\\n\\n- M.S. Statistics, Stanford University, GPA: 3.9/4.0\\n- B.S. Mathematics, Tsinghua University, China, GPA: 86/100\\n\\n## Leadership & Teamwork\\n\\n### Founder and Organizer, Data Visualization Meetup\\n*2010.8-2023.8*\\n\\n- Organized monthly meetups with industry leaders, sponsored by LinkedIn and Trulia.\\n\\n## Personal Hobbies\\n\\n- Piano (Google G-Star 2013)\\n- Basketball (Google internal 3v3 tournament champion)\\n\\nCitations:\\n[1] https://ppl-ai-file-upload.s3.amazonaws.com/web/direct-files/14344661/b2828106-a6f7-43d8-957a-bf46e0b7e83d/Zhou-Yu-Resume-Data-Scientist.pdf\\n\\n---\\n\\n**Additional Suggestions:**\\n\\n- Consider pursuing certifications in GenAI and BI platforms to enhance qualifications.\\n- Develop projects focusing on recommender systems and personalization to align with the job requirements.\""
      ]
     },
     "execution_count": 26,
     "metadata": {},
     "output_type": "execute_result"
    }
   ],
   "source": [
    "# define prompt template\n",
    "prompt_template_resume = \"\"\"\n",
    "**Objective:**  \n",
    "Please review my resume and optimize it for the specific job described in the provided job description. \n",
    "\n",
    "**Input Files:**  \n",
    "1. **My Resume**: {resume}\n",
    "2. **Job Description**: {job_description}\n",
    "\n",
    "### Guidelines:\n",
    "\n",
    "1. **Relevance**:  \n",
    "   - Focus on experiences, skills, and achievements that are most relevant to the job description.\n",
    "   - Remove or downplay irrelevant details to create a concise and targeted resume.\n",
    "   - Limit the work experience section to 2-3 of the most relevant roles.\n",
    "   - Restrict bullet points under each role to 2-3 key impacts.\n",
    "\n",
    "2. **Action-Driven Results**:  \n",
    "   - Use strong action verbs and include quantifiable results (e.g., percentages, revenue increases) to demonstrate impact.\n",
    "\n",
    "3. **Keyword Optimization**:  \n",
    "   - Integrate keywords and phrases from the job description naturally to enhance optimization for Applicant Tracking Systems (ATS).\n",
    "\n",
    "### Output:\n",
    "\n",
    "1. **Tailored Resume**:  \n",
    "   - Provide a revised resume in Markdown format that emphasizes relevant experiences, skills, and achievements.\n",
    "   - Ensure it incorporates job description keywords for ATS optimization.\n",
    "   - Maintain strong language throughout and keep it concise (ideally one page).\n",
    "\n",
    "2. **Additional Suggestions (if applicable)**:  \n",
    "   - List any skills that could improve alignment with the role.\n",
    "   - Recommend certifications or courses that could be pursued.\n",
    "   - Suggest specific projects or experiences to develop further.\n",
    "\n",
    "\"\"\"\n",
    "\n",
    "prompt_resume = PromptTemplate(input_variables=[\"resume\", \"job_description\"], template = prompt_template_resume)\n",
    "\n",
    "chain_job = LLMChain(\n",
    "    llm=chat_model,\n",
    "    prompt=prompt_resume,\n",
    ")\n",
    "\n",
    "response_lang_chain = chain_job.run({'resume':resume_string, 'job_description':job_description_string})"
   ]
  },
  {
   "cell_type": "code",
   "execution_count": 5,
   "id": "4b3172ec-128d-45ce-bfe6-11bfc92c5dfe",
   "metadata": {},
   "outputs": [],
   "source": [
    "prompt_template = lambda resume_string, jd_string : f\"\"\"\n",
    "You are a professional resume optimization expert specializing in tailoring \\\n",
    "resumes to specific job descriptions. Your goal is to optimize my resume and \\\n",
    "provide actionable suggestions for improvement to align with the target role.\n",
    "\n",
    "### Guidelines:\n",
    "1. **Relevance**:  \n",
    "   - Prioritize experiences, skills, and achievements **most relevant to the \\\n",
    "job description**.  \n",
    "   - Remove or de-emphasize irrelevant details to ensure a **concise** and \\\n",
    "**targeted** resume.\n",
    "   - Limit work experience section to 2-3 most relevant roles\n",
    "   - Limit bullet points under each role to 2-3 most relevant impacts\n",
    "\n",
    "2. **Action-Driven Results**:  \n",
    "   - Use **strong action verbs** and **quantifiable results** (e.g., \\\n",
    "percentages, revenue, efficiency improvements) to highlight impact.  \n",
    "\n",
    "3. **Keyword Optimization**:  \n",
    "   - Integrate **keywords** and phrases from the job description naturally to \\\n",
    "optimize for ATS (Applicant Tracking Systems).  \n",
    "\n",
    "4. **Additional Suggestions** *(If Gaps Exist)*:  \n",
    "   - If the resume does not fully align with the job description, suggest:  \n",
    "     1. **Additional technical or soft skills** that I could add to make my \\\n",
    "profile stronger.  \n",
    "     2. **Certifications or courses** I could pursue to bridge the gap.  \n",
    "     3. **Project ideas or experiences** that would better align with the role.  \n",
    "\n",
    "5. **Formatting**:  \n",
    "   - Output the tailored resume in **clean Markdown format**.  \n",
    "   - Include an **\"Additional Suggestions\"** section at the end with \\\n",
    "actionable improvement recommendations.  \n",
    "\n",
    "---\n",
    "\n",
    "### Input:\n",
    "- **My resume**:  \n",
    "{resume_string}\n",
    "\n",
    "- **The job description**:  \n",
    "{jd_string}\n",
    "\n",
    "---\n",
    "\n",
    "### Output:  \n",
    "1. **Tailored Resume**:  \n",
    "   - A resume in **Markdown format** that emphasizes relevant experience, \\\n",
    "skills, and achievements.  \n",
    "   - Incorporates job description **keywords** to optimize for ATS.  \n",
    "   - Uses strong language and is no longer than **one page**.\n",
    "\n",
    "2. **Additional Suggestions** *(if applicable)*:  \n",
    "   - List **skills** that could strengthen alignment with the role.  \n",
    "   - Recommend **certifications or courses** to pursue.  \n",
    "   - Suggest **specific projects or experiences** to develop.\n",
    "\"\"\""
   ]
  },
  {
   "cell_type": "code",
   "execution_count": 6,
   "id": "15c0f7a1-4775-4fce-840f-d0bc47740fec",
   "metadata": {},
   "outputs": [],
   "source": [
    "# create prompt\n",
    "prompt = prompt_template(resume_string, jd_string)\n",
    "\n",
    "# setup api client\n",
    "client = OpenAI(api_key=my_sk)\n",
    "\n",
    "# make api call\n",
    "response = client.chat.completions.create(\n",
    "    model=\"gpt-4o-mini\",\n",
    "    messages=[\n",
    "        {\"role\": \"system\", \"content\": \"Expert resume writer\"},\n",
    "        {\"role\": \"user\", \"content\": prompt}\n",
    "    ], \n",
    "    temperature = 0\n",
    ")\n",
    "\n",
    "# extract response\n",
    "response_string = response.choices[0].message.content"
   ]
  },
  {
   "cell_type": "code",
   "execution_count": 7,
   "id": "d45dd7b2-316e-4bd3-9fd7-822b43ee904b",
   "metadata": {},
   "outputs": [],
   "source": [
    "response_list = response_string.split(\"## Additional Suggestions\")"
   ]
  },
  {
   "cell_type": "code",
   "execution_count": 8,
   "id": "901c0978-a910-4541-9d0f-dc2d7a32c0c5",
   "metadata": {},
   "outputs": [
    {
     "data": {
      "text/plain": [
       "'\\n1. **Skills to Add**:\\n   - Familiarity with cloud platforms (e.g., Azure, GCP) if relevant to the job.\\n   - Experience with specific data visualization tools (e.g., Tableau, Power BI) if applicable.\\n\\n2. **Certifications or Courses**:\\n   - Consider pursuing certifications in advanced machine learning or data engineering (e.g., AWS Certified Machine Learning, Google Data Analytics).\\n\\n3. **Project Ideas**:\\n   - Develop a project that showcases the application of LLMs in a specific industry (e.g., healthcare, finance) to demonstrate practical experience.\\n   - Create a case study on optimizing a data pipeline for real-time analytics, highlighting your skills in data integration and processing.'"
      ]
     },
     "execution_count": 8,
     "metadata": {},
     "output_type": "execute_result"
    }
   ],
   "source": [
    "response_list[1]"
   ]
  },
  {
   "cell_type": "code",
   "execution_count": 10,
   "id": "d8461ea5-d359-4012-b086-9afa675f1ce2",
   "metadata": {},
   "outputs": [
    {
     "data": {
      "text/plain": [
       "\"<h1>Zhou Yu</h1>\\n<p>Email: yuuniverse4444@gmail.com<br />\\nPhone: 650-704-6941</p>\\n<h2>Work Experience</h2>\\n<h3>Data Science Consultant, Bond Capital (Mary Meeker's Growth Fund)</h3>\\n<p><em>2022.02 - 2024.09</em><br />\\n- Developed a data-driven investing roadmap, implementing end-to-end machine learning algorithms that improved investment opportunity sourcing recall from 23.2% to 37.5% using xgBoost models.\\n- Created a backtesting infrastructure with Spark/EMR, enhancing model performance evaluation and feature impact analysis.\\n- Led the application of LLM to analyze web and product review data, increasing output format consistency from 89.4% to 99.6%.</p>\\n<h3>Head of Data Science, Grow Therapy (Sequoia Invested)</h3>\\n<p><em>2022.02 - 2022.11</em><br />\\n- Spearheaded data science initiatives, resulting in a 10% increase in user conversion and a 7% boost in retention through optimized provider ranking algorithms.\\n- Developed a reporting dashboard for medical claims, improving revenue cycle management efficiency by 15%.</p>\\n<h3>Director &amp; Principal Data Scientist, Signalfire LLC</h3>\\n<p><em>2018.03 - 2022.01</em><br />\\n- Implemented an xgBoost model for startup ranking, enhancing sourcing performance by 20% through advanced feature engineering and systematic backtesting.\\n- Integrated over 100GB of data sources into the ranking system, significantly improving deal sourcing capabilities for early-stage startups.</p>\\n<h2>Technical Skills</h2>\\n<ul>\\n<li><strong>Programming Languages</strong>: Python, R, SQL, Spark/Scala</li>\\n<li><strong>Tools</strong>: AWS (EMR, EC2, S3), MySQL, Git, Linux</li>\\n<li><strong>Expertise</strong>: Machine Learning, Data Science, A/B Testing, Algorithm Development</li>\\n</ul>\\n<h2>Education</h2>\\n<ul>\\n<li><strong>M.S. Statistics</strong>, Stanford University, GPA: 3.9/4.0 (2008.09 - 2010.03)  </li>\\n<li><strong>B.S. Mathematics</strong>, Tsinghua University, China, GPA: 86/100 (2004.07 - 2008.07)</li>\\n</ul>\\n<h2>Innovation and Achievements</h2>\\n<ul>\\n<li>Three patents approved by USPTO related to online ad targeting and AI.</li>\\n</ul>\\n<h2>Leadership &amp; Teamwork</h2>\\n<h3>Founder and Organizer, Data Visualization Meetup</h3>\\n<p><em>2010.08 - 2023.08</em><br />\\n- Organized monthly meetups on data visualization, growing a community of over 7,000 members and collaborating with industry leaders.</p>\\n<hr />\""
      ]
     },
     "execution_count": 10,
     "metadata": {},
     "output_type": "execute_result"
    }
   ],
   "source": [
    "# save as PDF\n",
    "output_pdf_file = \"resume_new.pdf\"\n",
    "\n",
    "# Convert Markdown to HTML\n",
    "html_content = markdown(response_list[0])\n",
    "html_content\n",
    "\n",
    "# # Convert HTML to PDF and save\n",
    "# HTML(string=html_content).write_pdf(output_pdf_file, \n",
    "#                                     stylesheets=['resumes/style.css'])"
   ]
  },
  {
   "cell_type": "code",
   "execution_count": 11,
   "id": "010f8fef-f3c1-4030-afd3-8881cac9e834",
   "metadata": {},
   "outputs": [
    {
     "data": {
      "text/plain": [
       "'<ol>\\n<li><strong>Skills to Add</strong>:</li>\\n<li>Familiarity with cloud platforms (e.g., Azure, GCP) if relevant to the job.</li>\\n<li>\\n<p>Experience with specific data visualization tools (e.g., Tableau, Power BI) if applicable.</p>\\n</li>\\n<li>\\n<p><strong>Certifications or Courses</strong>:</p>\\n</li>\\n<li>\\n<p>Consider pursuing certifications in advanced machine learning or data engineering (e.g., AWS Certified Machine Learning, Google Data Analytics).</p>\\n</li>\\n<li>\\n<p><strong>Project Ideas</strong>:</p>\\n</li>\\n<li>Develop a project that showcases the application of LLMs in a specific industry (e.g., healthcare, finance) to demonstrate practical experience.</li>\\n<li>Create a case study on optimizing a data pipeline for real-time analytics, highlighting your skills in data integration and processing.</li>\\n</ol>'"
      ]
     },
     "execution_count": 11,
     "metadata": {},
     "output_type": "execute_result"
    }
   ],
   "source": [
    "html_content_2 = markdown(response_list[1])\n",
    "html_content_2"
   ]
  }
 ],
 "metadata": {
  "kernelspec": {
   "display_name": "myenv",
   "language": "python",
   "name": "myenv"
  },
  "language_info": {
   "codemirror_mode": {
    "name": "ipython",
    "version": 3
   },
   "file_extension": ".py",
   "mimetype": "text/x-python",
   "name": "python",
   "nbconvert_exporter": "python",
   "pygments_lexer": "ipython3",
   "version": "3.9.6"
  }
 },
 "nbformat": 4,
 "nbformat_minor": 5
}
