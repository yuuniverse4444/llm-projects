{
 "cells": [
  {
   "cell_type": "code",
   "execution_count": null,
   "id": "9ee8a36f-3890-45c3-9981-b6272996648e",
   "metadata": {},
   "outputs": [],
   "source": [
    "\"\"\"\n",
    "This is an example of RAG engine using retrivial to scan through a company's past 12 months earning transcript. \n",
    "Then user can ask relevant questions.\n",
    "It uses google/flan-t5-base or google/flan-t5-large as base model and use earning trasnript PDF as context for retrivial.\n",
    "\"\"\""
   ]
  },
  {
   "cell_type": "code",
   "execution_count": 1,
   "id": "a06053a2-b2ad-4653-8912-3f9dd96c48e8",
   "metadata": {},
   "outputs": [
    {
     "name": "stderr",
     "output_type": "stream",
     "text": [
      "/Users/zhouyu/Documents/notebook/myenv/lib/python3.9/site-packages/urllib3/__init__.py:35: NotOpenSSLWarning: urllib3 v2 only supports OpenSSL 1.1.1+, currently the 'ssl' module is compiled with 'LibreSSL 2.8.3'. See: https://github.com/urllib3/urllib3/issues/3020\n",
      "  warnings.warn(\n",
      "/Users/zhouyu/Documents/notebook/myenv/lib/python3.9/site-packages/tqdm/auto.py:21: TqdmWarning: IProgress not found. Please update jupyter and ipywidgets. See https://ipywidgets.readthedocs.io/en/stable/user_install.html\n",
      "  from .autonotebook import tqdm as notebook_tqdm\n",
      "2025-01-17 10:09:27.229615: I tensorflow/core/platform/cpu_feature_guard.cc:182] This TensorFlow binary is optimized to use available CPU instructions in performance-critical operations.\n",
      "To enable the following instructions: AVX2 FMA, in other operations, rebuild TensorFlow with the appropriate compiler flags.\n"
     ]
    }
   ],
   "source": [
    "from llama_index.embeddings.huggingface import HuggingFaceEmbedding\n",
    "from llama_index.core import Settings, SimpleDirectoryReader, VectorStoreIndex\n",
    "from llama_index.core.retrievers import VectorIndexRetriever\n",
    "from llama_index.core.query_engine import RetrieverQueryEngine\n",
    "from llama_index.core.postprocessor import SimilarityPostprocessor"
   ]
  },
  {
   "cell_type": "code",
   "execution_count": 2,
   "id": "031883ae-86ce-4f4f-ab8a-7995f998406b",
   "metadata": {},
   "outputs": [
    {
     "name": "stdout",
     "output_type": "stream",
     "text": [
      "LLM is explicitly disabled. Using MockLLM.\n"
     ]
    }
   ],
   "source": [
    "# import any embedding model on HF hub (https://huggingface.co/spaces/mteb/leaderboard)\n",
    "Settings.embed_model = HuggingFaceEmbedding(model_name=\"BAAI/bge-small-en-v1.5\")\n",
    "# Settings.embed_model = HuggingFaceEmbedding(model_name=\"thenlper/gte-large\") # alternative model\n",
    "\n",
    "Settings.llm = None\n",
    "\n",
    "Settings.chunk_size = 256\n",
    "Settings.chunk_overlap = 25\n",
    "documents = SimpleDirectoryReader(\"stock-articles\").load_data()"
   ]
  },
  {
   "cell_type": "code",
   "execution_count": 3,
   "id": "a8cffed4-133a-424f-9688-c15aaf75cf51",
   "metadata": {},
   "outputs": [
    {
     "name": "stdout",
     "output_type": "stream",
     "text": [
      "126\n",
      "89\n"
     ]
    }
   ],
   "source": [
    "print(len(documents))\n",
    "for doc in documents:\n",
    "    # reduce document size, remove operator related comments     \n",
    "    if \"Operator\" in doc.text:\n",
    "        documents.remove(doc)\n",
    "        continue\n",
    "\n",
    "\n",
    "print(len(documents))\n"
   ]
  },
  {
   "cell_type": "code",
   "execution_count": 19,
   "id": "451cb4f5-5d00-450c-a26a-6ae9c2773469",
   "metadata": {},
   "outputs": [],
   "source": [
    "\n",
    "# store docs into vector DB\n",
    "index = VectorStoreIndex.from_documents(documents)\n",
    "\n",
    "# set number of docs to retreive\n",
    "top_k = 5\n",
    "\n",
    "# configure retriever\n",
    "retriever = VectorIndexRetriever(\n",
    "    index=index,\n",
    "    similarity_top_k=top_k,\n",
    ")\n",
    "# assemble query engine\n",
    "query_engine = RetrieverQueryEngine(\n",
    "    retriever=retriever,\n",
    "    node_postprocessors=[SimilarityPostprocessor(similarity_cutoff=0.5)],\n",
    ")\n"
   ]
  },
  {
   "cell_type": "code",
   "execution_count": 26,
   "id": "25c58591-baa6-46d6-8ba3-a33c204fc876",
   "metadata": {},
   "outputs": [
    {
     "name": "stdout",
     "output_type": "stream",
     "text": [
      "Context:\n",
      "Can you talk about that effort, the timing, the rationale and so forth?\n",
      "Anne Mehlman -- Executive Vice President, Chief Financial O\u0000cer\n",
      "Sure.\n",
      "Andrew Rees -- Director and Chief Executive O\u0000cer\n",
      "Yeah. So from a margin -- we're not anticipating incremental margin pressure from the\n",
      "lower revenue, some of the revenue reduction for HEYDUDE. I think we -- the margin is\n",
      "sort of playing out our pricing, promotional strategy, our channel mix is playing out\n",
      "pretty much where we thought it would be. And obviously, the reduction is really\n",
      "coming from wholesale revenues and so as our DTC revenues are obviously higher\n",
      "margin than wholesale revenues, we don't see a margin reduction.\n",
      "We think our margin guide is good for HEYDUDE, and I'll let Anne talk about the ERP.\n",
      "\n",
      "which supports that overall gross margin. We also have seen a little bit of input cost\n",
      "pressure relief on the Crocs side.\n",
      "And so we've seen our costs as we negotiate those kind of in the \u0000rst quarter come\n",
      "down. And so we've taken those assumptions for the remainder of the year as we kind\n",
      "of look through that. So those are really supporting the higher gross margin\n",
      "assumptions on the Crocs side.\n",
      "Jim Duffy -- Stifel Financial Corp. -- Analyst\n",
      "Got it. Thank you, Anne. And can you speak to the HEYDUDE margin revenue for 2024.\n",
      "Does the lower revenue come with incremental margin pressure? Or is there some\n",
      "place where you have savings as an offset? And then, Anne, the GAAP charges for the\n",
      "HEYDUDE ERP implementation is new.\n",
      "Can you talk about that effort, the timing, the rationale and so forth?\n",
      "\n",
      "HEYDUDE inventory was down 38%\n",
      "from last year to $104 million and down 6% versus Q3. We ended 2023 with a strong\n",
      "liquidity position, comprised of $149 million of cash and cash equivalents and $570\n",
      "million of borrowing capacity on our revolver.\n",
      "Through strong cash \u0000ow generation and diligent management of net working capital,\n",
      "we have reduced total borrowings to $1.7 billion and our net leverage stood\n",
      "approximately 1.3 times. Since acquiring HEYDUDE in February 2022, we have repaid\n",
      "$1.2 billion in debt and resumed our share repurchase activity in the second half of\n",
      "2023. On a full year basis, we repurchased $175 million of stock at an average price of\n",
      "$104 per share. Our strong liquidity position, investing cash \u0000ow generation will enable\n",
      "us to continue to pay down debt and buyback stock in 2024.\n",
      "\n",
      "costs and select international price increases, offset in part by channel mix. HEYDUDE\n",
      "brand adjusted gross margin was 47.9% or 510 basis points higher than prior year,\n",
      "driven primarily by freight, favorable channel mix, and pricing.\n",
      "Overall, adjusted gross margin was below expectations as the channel mix bene\u0000t was\n",
      "not as favorable as expected, given softer-than-anticipated digital trends in the quarter.\n",
      "Our third-quarter adjusted SG&A dollars increased 19% to prior year. Our adjusted\n",
      "SG&A rate was 34.2%, up 510 basis points compared to prior year, driven by continued\n",
      "investment in talent, marketing, digital and retail to support long-term market share\n",
      "gains. Our third-quarter adjusted operating margin was 25.4%, down 290 basis points\n",
      "from 28.3% in the prior year, driven by planned investments and SG&A.\n",
      "Third-quarter adjusted diluted earnings per share increased 11% to $3.60.\n",
      "\n",
      "higher than prior year. During the quarter, the primary drivers of margin expansion were\n",
      "lower inbound freight and favorable product costs coupled with select price increases\n",
      "internationally and lower discounting. HEYDUDE brand adjusted gross margin came in\n",
      "at 47.8%, in line with our expectations but 180 basis points below prior year, driven by\n",
      "investment in distribution and logistics partially offset by reduced rates.\n",
      "Our \u0000rst quarter adjusted SG&A dollars increased 16% to prior year. Our SG&A rate was\n",
      "28.8% and up 250 basis points compared to prior year, driven by continued investment\n",
      "in talent, marketing and DTC to support long-term market share gains. Our \u0000rst quarter\n",
      "adjusted operating margin declined 80 basis points to 27.1% compared to 27.9% for\n",
      "the same period last year, but was favorable to our expectations on higher gross\n",
      "margins and favorable revenue, leveraging our cost base.\n",
      "\n",
      "\n"
     ]
    }
   ],
   "source": [
    "# query documents\n",
    "comment = \"What is going on with HeyDude's margin?\"\n",
    "response = query_engine.query(comment)\n",
    "\n",
    "# \n",
    "context = \"Context:\\n\"\n",
    "for i in range(top_k):\n",
    "    # This step enrich the context by retriving information from the articles\n",
    "    context = context + response.source_nodes[i].text + \"\\n\\n\"\n",
    "print(context)\n"
   ]
  },
  {
   "cell_type": "code",
   "execution_count": 6,
   "id": "b3b8ecb0-e82d-43a6-baef-37dd05dfe451",
   "metadata": {},
   "outputs": [],
   "source": [
    "# load fine-tuned model from hub\n",
    "from peft import PeftModel, PeftConfig\n",
    "\n",
    "from transformers import AutoModelForSeq2SeqLM, AutoTokenizer\n",
    "\n",
    "model_name = \"google/flan-t5-base\"\n",
    "# model_name = \"google/flan-t5-large\"\n",
    "tokenizer = AutoTokenizer.from_pretrained(model_name)\n",
    "model = AutoModelForSeq2SeqLM.from_pretrained(model_name)"
   ]
  },
  {
   "cell_type": "code",
   "execution_count": 27,
   "id": "8b313955-951b-4c37-9ae6-8002cbae35e1",
   "metadata": {},
   "outputs": [
    {
     "name": "stdout",
     "output_type": "stream",
     "text": [
      "\n",
      "You are a very smart financial analyst. We are trying to extract relevant information about a publicly traded stock in the US. \n",
      "Please respond to the following comment.\n",
      "What is going on with HeyDude's margin?\n",
      "It is a stock that has a high price.\n"
     ]
    }
   ],
   "source": [
    "instructions_string = \"\"\"\n",
    "You are a very smart financial analyst. We are trying to extract relevant information about a publicly traded stock in the US. \n",
    "Please respond to the following comment.\"\"\"\n",
    "\n",
    "prompt_template = lambda comment: f\"{instructions_string}\\n{comment}\"\n",
    "\n",
    "\n",
    "\n",
    "prompt = prompt_template(comment)\n",
    "print(prompt)\n",
    "\n",
    "model.eval()\n",
    "\n",
    "# Tokenize prompts, return in PyTorch format\n",
    "inputs = tokenizer(prompt, return_tensors=\"pt\")\n",
    "outputs = model.generate(input_ids=inputs[\"input_ids\"], max_new_tokens=100)\n",
    "\n",
    "print(tokenizer.batch_decode(outputs, skip_special_tokens=True)[0])"
   ]
  },
  {
   "cell_type": "code",
   "execution_count": 28,
   "id": "072078fc-56b2-4956-9c88-baf9d2ceefda",
   "metadata": {},
   "outputs": [
    {
     "name": "stdout",
     "output_type": "stream",
     "text": [
      "\n",
      "You are a very smart financial analyst. We are trying to extract relevant information about a publicly traded stock in the US. \n",
      "\n",
      "Context:\n",
      "Can you talk about that effort, the timing, the rationale and so forth?\n",
      "Anne Mehlman -- Executive Vice President, Chief Financial O\u0000cer\n",
      "Sure.\n",
      "Andrew Rees -- Director and Chief Executive O\u0000cer\n",
      "Yeah. So from a margin -- we're not anticipating incremental margin pressure from the\n",
      "lower revenue, some of the revenue reduction for HEYDUDE. I think we -- the margin is\n",
      "sort of playing out our pricing, promotional strategy, our channel mix is playing out\n",
      "pretty much where we thought it would be. And obviously, the reduction is really\n",
      "coming from wholesale revenues and so as our DTC revenues are obviously higher\n",
      "margin than wholesale revenues, we don't see a margin reduction.\n",
      "We think our margin guide is good for HEYDUDE, and I'll let Anne talk about the ERP.\n",
      "\n",
      "which supports that overall gross margin. We also have seen a little bit of input cost\n",
      "pressure relief on the Crocs side.\n",
      "And so we've seen our costs as we negotiate those kind of in the \u0000rst quarter come\n",
      "down. And so we've taken those assumptions for the remainder of the year as we kind\n",
      "of look through that. So those are really supporting the higher gross margin\n",
      "assumptions on the Crocs side.\n",
      "Jim Duffy -- Stifel Financial Corp. -- Analyst\n",
      "Got it. Thank you, Anne. And can you speak to the HEYDUDE margin revenue for 2024.\n",
      "Does the lower revenue come with incremental margin pressure? Or is there some\n",
      "place where you have savings as an offset? And then, Anne, the GAAP charges for the\n",
      "HEYDUDE ERP implementation is new.\n",
      "Can you talk about that effort, the timing, the rationale and so forth?\n",
      "\n",
      "HEYDUDE inventory was down 38%\n",
      "from last year to $104 million and down 6% versus Q3. We ended 2023 with a strong\n",
      "liquidity position, comprised of $149 million of cash and cash equivalents and $570\n",
      "million of borrowing capacity on our revolver.\n",
      "Through strong cash \u0000ow generation and diligent management of net working capital,\n",
      "we have reduced total borrowings to $1.7 billion and our net leverage stood\n",
      "approximately 1.3 times. Since acquiring HEYDUDE in February 2022, we have repaid\n",
      "$1.2 billion in debt and resumed our share repurchase activity in the second half of\n",
      "2023. On a full year basis, we repurchased $175 million of stock at an average price of\n",
      "$104 per share. Our strong liquidity position, investing cash \u0000ow generation will enable\n",
      "us to continue to pay down debt and buyback stock in 2024.\n",
      "\n",
      "costs and select international price increases, offset in part by channel mix. HEYDUDE\n",
      "brand adjusted gross margin was 47.9% or 510 basis points higher than prior year,\n",
      "driven primarily by freight, favorable channel mix, and pricing.\n",
      "Overall, adjusted gross margin was below expectations as the channel mix bene\u0000t was\n",
      "not as favorable as expected, given softer-than-anticipated digital trends in the quarter.\n",
      "Our third-quarter adjusted SG&A dollars increased 19% to prior year. Our adjusted\n",
      "SG&A rate was 34.2%, up 510 basis points compared to prior year, driven by continued\n",
      "investment in talent, marketing, digital and retail to support long-term market share\n",
      "gains. Our third-quarter adjusted operating margin was 25.4%, down 290 basis points\n",
      "from 28.3% in the prior year, driven by planned investments and SG&A.\n",
      "Third-quarter adjusted diluted earnings per share increased 11% to $3.60.\n",
      "\n",
      "higher than prior year. During the quarter, the primary drivers of margin expansion were\n",
      "lower inbound freight and favorable product costs coupled with select price increases\n",
      "internationally and lower discounting. HEYDUDE brand adjusted gross margin came in\n",
      "at 47.8%, in line with our expectations but 180 basis points below prior year, driven by\n",
      "investment in distribution and logistics partially offset by reduced rates.\n",
      "Our \u0000rst quarter adjusted SG&A dollars increased 16% to prior year. Our SG&A rate was\n",
      "28.8% and up 250 basis points compared to prior year, driven by continued investment\n",
      "in talent, marketing and DTC to support long-term market share gains. Our \u0000rst quarter\n",
      "adjusted operating margin declined 80 basis points to 27.1% compared to 27.9% for\n",
      "the same period last year, but was favorable to our expectations on higher gross\n",
      "margins and favorable revenue, leveraging our cost base.\n",
      "\n",
      "\n",
      "Based on the context provided, please respond to the following comment. Make sure to use the context above. \n",
      "\n",
      "What is going on with HeyDude's margin?\n",
      "\n",
      "\n",
      "HEYDUDE brand adjusted gross margin was 47.9% or 510 basis points higher than prior year, driven primarily by freight, favorable channel mix, and pricing.\n"
     ]
    }
   ],
   "source": [
    "# prompt (with context)\n",
    "prompt_template_w_context = lambda context, comment: f\"\"\"\n",
    "You are a very smart financial analyst. We are trying to extract relevant information about a publicly traded stock in the US. \n",
    "\n",
    "{context}\n",
    "Based on the context provided, please respond to the following comment. Make sure to use the context above. \n",
    "\n",
    "{comment}\n",
    "\n",
    "\"\"\"\n",
    "\n",
    "prompt = prompt_template_w_context(context, comment)\n",
    "print(prompt)\n",
    "\n",
    "inputs = tokenizer(prompt, return_tensors=\"pt\")\n",
    "outputs = model.generate(input_ids=inputs[\"input_ids\"], max_new_tokens=150)\n",
    "\n"
   ]
  },
  {
   "cell_type": "code",
   "execution_count": 29,
   "id": "fab11f12-3d29-4cc6-bd09-426e89f0ce6f",
   "metadata": {},
   "outputs": [
    {
     "name": "stdout",
     "output_type": "stream",
     "text": [
      "HEYDUDE brand adjusted gross margin was 47.9% or 510 basis points higher than prior year, driven primarily by freight, favorable channel mix, and pricing.\n"
     ]
    }
   ],
   "source": [
    "## significantly better improvements. \n",
    "print(tokenizer.batch_decode(outputs, skip_special_tokens=True)[0])"
   ]
  }
 ],
 "metadata": {
  "kernelspec": {
   "display_name": "Python 3 (ipykernel)",
   "language": "python",
   "name": "python3"
  },
  "language_info": {
   "codemirror_mode": {
    "name": "ipython",
    "version": 3
   },
   "file_extension": ".py",
   "mimetype": "text/x-python",
   "name": "python",
   "nbconvert_exporter": "python",
   "pygments_lexer": "ipython3",
   "version": "3.9.6"
  }
 },
 "nbformat": 4,
 "nbformat_minor": 5
}
